{
 "cells": [
  {
   "cell_type": "code",
   "execution_count": 1201,
   "metadata": {},
   "outputs": [],
   "source": [
    "import numpy as np # linear algebra\n",
    "import pandas as pd # data processing, CSV file I/O (e.g. pd.read_csv)\n",
    "import os\n",
    "import matplotlib.pyplot as plt\n",
    "import seaborn as sns\n",
    "from sklearn.metrics import accuracy_score\n",
    "\n",
    "from statistics import mode\n",
    "\n",
    "import re\n",
    "\n",
    "from sklearn.model_selection import train_test_split\n",
    "\n",
    "import tensorflow as tf\n",
    "tf.random.set_seed(123)\n",
    "\n",
    "import asyncio\n",
    "\n",
    "# Input data files are available in the \"../input/\" directory.\n",
    "# For example, running this (by clicking run or pressing Shift+Enter) will list all files under the input directory\n",
    "\n",
    "#C:\\Users\\huai\\.homejupyter\n",
    "\n",
    "#import os\n",
    "#for dirname, _, filenames in os.walk('C:/Users/huai/.homejupyter'):\n",
    "#    for filename in filenames:\n",
    "#        print(os.path.join(dirname, filename))\n"
   ]
  },
  {
   "cell_type": "markdown",
   "metadata": {},
   "source": [
    "# Step 1.瀏覽資料"
   ]
  },
  {
   "cell_type": "code",
   "execution_count": 931,
   "metadata": {},
   "outputs": [
    {
     "name": "stdout",
     "output_type": "stream",
     "text": [
      "<class 'pandas.core.frame.DataFrame'>\n",
      "RangeIndex: 943 entries, 0 to 942\n",
      "Data columns (total 12 columns):\n",
      " #   Column    Non-Null Count  Dtype  \n",
      "---  ------    --------------  -----  \n",
      " 0   ID        943 non-null    int64  \n",
      " 1   pclass    943 non-null    int64  \n",
      " 2   survived  943 non-null    int64  \n",
      " 3   name      943 non-null    object \n",
      " 4   sex       943 non-null    object \n",
      " 5   age       750 non-null    float64\n",
      " 6   sibsp     943 non-null    int64  \n",
      " 7   parch     943 non-null    int64  \n",
      " 8   ticket    943 non-null    object \n",
      " 9   fare      942 non-null    float64\n",
      " 10  cabin     212 non-null    object \n",
      " 11  embarked  942 non-null    object \n",
      "dtypes: float64(2), int64(5), object(5)\n",
      "memory usage: 88.5+ KB\n",
      "<class 'pandas.core.frame.DataFrame'>\n",
      "RangeIndex: 366 entries, 0 to 365\n",
      "Data columns (total 11 columns):\n",
      " #   Column    Non-Null Count  Dtype  \n",
      "---  ------    --------------  -----  \n",
      " 0   ID        366 non-null    int64  \n",
      " 1   pclass    366 non-null    int64  \n",
      " 2   name      366 non-null    object \n",
      " 3   sex       366 non-null    object \n",
      " 4   age       296 non-null    float64\n",
      " 5   sibsp     366 non-null    int64  \n",
      " 6   parch     366 non-null    int64  \n",
      " 7   ticket    366 non-null    object \n",
      " 8   fare      366 non-null    float64\n",
      " 9   cabin     83 non-null     object \n",
      " 10  embarked  365 non-null    object \n",
      "dtypes: float64(2), int64(4), object(5)\n",
      "memory usage: 31.6+ KB\n"
     ]
    }
   ],
   "source": [
    "train = pd.read_csv(\"Titanic_train.csv\" )\n",
    "tit1 = train.select_dtypes(include=['float64','int64','object'])\n",
    "train.info()\n",
    "\n",
    "test = pd.read_csv(\"Titanic_test.csv\")\n",
    "tit2 = test.select_dtypes(include=['float64','int64','object'])\n",
    "test.info()"
   ]
  },
  {
   "cell_type": "markdown",
   "metadata": {},
   "source": [
    "# Step 2 資料整理"
   ]
  },
  {
   "cell_type": "markdown",
   "metadata": {},
   "source": [
    "## 2.1 填空"
   ]
  },
  {
   "cell_type": "code",
   "execution_count": 932,
   "metadata": {},
   "outputs": [
    {
     "data": {
      "text/html": [
       "<div>\n",
       "<style scoped>\n",
       "    .dataframe tbody tr th:only-of-type {\n",
       "        vertical-align: middle;\n",
       "    }\n",
       "\n",
       "    .dataframe tbody tr th {\n",
       "        vertical-align: top;\n",
       "    }\n",
       "\n",
       "    .dataframe thead th {\n",
       "        text-align: right;\n",
       "    }\n",
       "</style>\n",
       "<table border=\"1\" class=\"dataframe\">\n",
       "  <thead>\n",
       "    <tr style=\"text-align: right;\">\n",
       "      <th></th>\n",
       "      <th>ID</th>\n",
       "      <th>pclass</th>\n",
       "      <th>survived</th>\n",
       "      <th>name</th>\n",
       "      <th>sex</th>\n",
       "      <th>age</th>\n",
       "      <th>sibsp</th>\n",
       "      <th>parch</th>\n",
       "      <th>ticket</th>\n",
       "      <th>fare</th>\n",
       "      <th>cabin</th>\n",
       "      <th>embarked</th>\n",
       "    </tr>\n",
       "  </thead>\n",
       "  <tbody>\n",
       "    <tr>\n",
       "      <th>0</th>\n",
       "      <td>False</td>\n",
       "      <td>False</td>\n",
       "      <td>False</td>\n",
       "      <td>False</td>\n",
       "      <td>False</td>\n",
       "      <td>False</td>\n",
       "      <td>False</td>\n",
       "      <td>False</td>\n",
       "      <td>False</td>\n",
       "      <td>False</td>\n",
       "      <td>False</td>\n",
       "      <td>False</td>\n",
       "    </tr>\n",
       "    <tr>\n",
       "      <th>1</th>\n",
       "      <td>False</td>\n",
       "      <td>False</td>\n",
       "      <td>False</td>\n",
       "      <td>False</td>\n",
       "      <td>False</td>\n",
       "      <td>False</td>\n",
       "      <td>False</td>\n",
       "      <td>False</td>\n",
       "      <td>False</td>\n",
       "      <td>False</td>\n",
       "      <td>False</td>\n",
       "      <td>False</td>\n",
       "    </tr>\n",
       "    <tr>\n",
       "      <th>2</th>\n",
       "      <td>False</td>\n",
       "      <td>False</td>\n",
       "      <td>False</td>\n",
       "      <td>False</td>\n",
       "      <td>False</td>\n",
       "      <td>False</td>\n",
       "      <td>False</td>\n",
       "      <td>False</td>\n",
       "      <td>False</td>\n",
       "      <td>False</td>\n",
       "      <td>False</td>\n",
       "      <td>False</td>\n",
       "    </tr>\n",
       "    <tr>\n",
       "      <th>3</th>\n",
       "      <td>False</td>\n",
       "      <td>False</td>\n",
       "      <td>False</td>\n",
       "      <td>False</td>\n",
       "      <td>False</td>\n",
       "      <td>False</td>\n",
       "      <td>False</td>\n",
       "      <td>False</td>\n",
       "      <td>False</td>\n",
       "      <td>False</td>\n",
       "      <td>False</td>\n",
       "      <td>False</td>\n",
       "    </tr>\n",
       "    <tr>\n",
       "      <th>4</th>\n",
       "      <td>False</td>\n",
       "      <td>False</td>\n",
       "      <td>False</td>\n",
       "      <td>False</td>\n",
       "      <td>False</td>\n",
       "      <td>False</td>\n",
       "      <td>False</td>\n",
       "      <td>False</td>\n",
       "      <td>False</td>\n",
       "      <td>False</td>\n",
       "      <td>False</td>\n",
       "      <td>False</td>\n",
       "    </tr>\n",
       "    <tr>\n",
       "      <th>...</th>\n",
       "      <td>...</td>\n",
       "      <td>...</td>\n",
       "      <td>...</td>\n",
       "      <td>...</td>\n",
       "      <td>...</td>\n",
       "      <td>...</td>\n",
       "      <td>...</td>\n",
       "      <td>...</td>\n",
       "      <td>...</td>\n",
       "      <td>...</td>\n",
       "      <td>...</td>\n",
       "      <td>...</td>\n",
       "    </tr>\n",
       "    <tr>\n",
       "      <th>938</th>\n",
       "      <td>False</td>\n",
       "      <td>False</td>\n",
       "      <td>False</td>\n",
       "      <td>False</td>\n",
       "      <td>False</td>\n",
       "      <td>True</td>\n",
       "      <td>False</td>\n",
       "      <td>False</td>\n",
       "      <td>False</td>\n",
       "      <td>False</td>\n",
       "      <td>True</td>\n",
       "      <td>False</td>\n",
       "    </tr>\n",
       "    <tr>\n",
       "      <th>939</th>\n",
       "      <td>False</td>\n",
       "      <td>False</td>\n",
       "      <td>False</td>\n",
       "      <td>False</td>\n",
       "      <td>False</td>\n",
       "      <td>True</td>\n",
       "      <td>False</td>\n",
       "      <td>False</td>\n",
       "      <td>False</td>\n",
       "      <td>False</td>\n",
       "      <td>True</td>\n",
       "      <td>False</td>\n",
       "    </tr>\n",
       "    <tr>\n",
       "      <th>940</th>\n",
       "      <td>False</td>\n",
       "      <td>False</td>\n",
       "      <td>False</td>\n",
       "      <td>False</td>\n",
       "      <td>False</td>\n",
       "      <td>True</td>\n",
       "      <td>False</td>\n",
       "      <td>False</td>\n",
       "      <td>False</td>\n",
       "      <td>False</td>\n",
       "      <td>True</td>\n",
       "      <td>False</td>\n",
       "    </tr>\n",
       "    <tr>\n",
       "      <th>941</th>\n",
       "      <td>False</td>\n",
       "      <td>False</td>\n",
       "      <td>False</td>\n",
       "      <td>False</td>\n",
       "      <td>False</td>\n",
       "      <td>False</td>\n",
       "      <td>False</td>\n",
       "      <td>False</td>\n",
       "      <td>False</td>\n",
       "      <td>False</td>\n",
       "      <td>True</td>\n",
       "      <td>False</td>\n",
       "    </tr>\n",
       "    <tr>\n",
       "      <th>942</th>\n",
       "      <td>False</td>\n",
       "      <td>False</td>\n",
       "      <td>False</td>\n",
       "      <td>False</td>\n",
       "      <td>False</td>\n",
       "      <td>False</td>\n",
       "      <td>False</td>\n",
       "      <td>False</td>\n",
       "      <td>False</td>\n",
       "      <td>False</td>\n",
       "      <td>True</td>\n",
       "      <td>False</td>\n",
       "    </tr>\n",
       "  </tbody>\n",
       "</table>\n",
       "<p>943 rows × 12 columns</p>\n",
       "</div>"
      ],
      "text/plain": [
       "        ID  pclass  survived   name    sex    age  sibsp  parch  ticket  \\\n",
       "0    False   False     False  False  False  False  False  False   False   \n",
       "1    False   False     False  False  False  False  False  False   False   \n",
       "2    False   False     False  False  False  False  False  False   False   \n",
       "3    False   False     False  False  False  False  False  False   False   \n",
       "4    False   False     False  False  False  False  False  False   False   \n",
       "..     ...     ...       ...    ...    ...    ...    ...    ...     ...   \n",
       "938  False   False     False  False  False   True  False  False   False   \n",
       "939  False   False     False  False  False   True  False  False   False   \n",
       "940  False   False     False  False  False   True  False  False   False   \n",
       "941  False   False     False  False  False  False  False  False   False   \n",
       "942  False   False     False  False  False  False  False  False   False   \n",
       "\n",
       "      fare  cabin  embarked  \n",
       "0    False  False     False  \n",
       "1    False  False     False  \n",
       "2    False  False     False  \n",
       "3    False  False     False  \n",
       "4    False  False     False  \n",
       "..     ...    ...       ...  \n",
       "938  False   True     False  \n",
       "939  False   True     False  \n",
       "940  False   True     False  \n",
       "941  False   True     False  \n",
       "942  False   True     False  \n",
       "\n",
       "[943 rows x 12 columns]"
      ]
     },
     "execution_count": 932,
     "metadata": {},
     "output_type": "execute_result"
    }
   ],
   "source": [
    "train.isnull()"
   ]
  },
  {
   "cell_type": "code",
   "execution_count": 933,
   "metadata": {},
   "outputs": [
    {
     "data": {
      "text/plain": [
       "ID            0\n",
       "pclass        0\n",
       "survived      0\n",
       "name          0\n",
       "sex           0\n",
       "age         193\n",
       "sibsp         0\n",
       "parch         0\n",
       "ticket        0\n",
       "fare          1\n",
       "cabin       731\n",
       "embarked      1\n",
       "dtype: int64"
      ]
     },
     "execution_count": 933,
     "metadata": {},
     "output_type": "execute_result"
    }
   ],
   "source": [
    "train.isnull().sum()"
   ]
  },
  {
   "cell_type": "code",
   "execution_count": 934,
   "metadata": {},
   "outputs": [],
   "source": [
    "train['cabin'] = train['cabin'].fillna('X')\n",
    "test['cabin'] = test['cabin'].fillna('X')\n",
    "#cabin     客艙編號\n",
    "#.fillna: 填滿單column表格元素"
   ]
  },
  {
   "cell_type": "code",
   "execution_count": 935,
   "metadata": {},
   "outputs": [
    {
     "data": {
      "text/plain": [
       "Text(0.5, 1.0, 'AGE')"
      ]
     },
     "execution_count": 935,
     "metadata": {},
     "output_type": "execute_result"
    },
    {
     "data": {
      "image/png": "[encoded data removed]",
      "text/plain": [
       "<Figure size 432x288 with 1 Axes>"
      ]
     },
     "metadata": {
      "needs_background": "light"
     },
     "output_type": "display_data"
    }
   ],
   "source": [
    "train['age'].hist(bins=50,color='salmon')\n",
    "plt.title(\"AGE\",size=20)"
   ]
  },
  {
   "cell_type": "code",
   "execution_count": 936,
   "metadata": {},
   "outputs": [
    {
     "name": "stdout",
     "output_type": "stream",
     "text": [
      "pclass\n",
      "1    38.0\n",
      "2    28.5\n",
      "3    24.0\n",
      "Name: age, dtype: float64\n",
      "pclass\n",
      "1    39.058703\n",
      "2    29.464286\n",
      "3    25.056849\n",
      "Name: age, dtype: float64\n"
     ]
    }
   ],
   "source": [
    "age_group = train.groupby(\"pclass\")[\"age\"]\n",
    "print(age_group.median())\n",
    "print(age_group.mean())\n",
    "#groupby contains info of frame "
   ]
  },
  {
   "cell_type": "code",
   "execution_count": 937,
   "metadata": {},
   "outputs": [
    {
     "data": {
      "text/html": [
       "<div>\n",
       "<style scoped>\n",
       "    .dataframe tbody tr th:only-of-type {\n",
       "        vertical-align: middle;\n",
       "    }\n",
       "\n",
       "    .dataframe tbody tr th {\n",
       "        vertical-align: top;\n",
       "    }\n",
       "\n",
       "    .dataframe thead th {\n",
       "        text-align: right;\n",
       "    }\n",
       "</style>\n",
       "<table border=\"1\" class=\"dataframe\">\n",
       "  <thead>\n",
       "    <tr style=\"text-align: right;\">\n",
       "      <th></th>\n",
       "      <th>0</th>\n",
       "      <th>1</th>\n",
       "    </tr>\n",
       "  </thead>\n",
       "  <tbody>\n",
       "    <tr>\n",
       "      <th>0</th>\n",
       "      <td>1</td>\n",
       "      <td>0      29.0000\n",
       "1       0.9167\n",
       "2      30.0000\n",
       "3...</td>\n",
       "    </tr>\n",
       "    <tr>\n",
       "      <th>1</th>\n",
       "      <td>2</td>\n",
       "      <td>232    28.0\n",
       "233    30.0\n",
       "234    25.0\n",
       "235    34....</td>\n",
       "    </tr>\n",
       "    <tr>\n",
       "      <th>2</th>\n",
       "      <td>3</td>\n",
       "      <td>426    42.0\n",
       "427    20.0\n",
       "428    18.0\n",
       "429    30....</td>\n",
       "    </tr>\n",
       "  </tbody>\n",
       "</table>\n",
       "</div>"
      ],
      "text/plain": [
       "   0                                                  1\n",
       "0  1  0      29.0000\n",
       "1       0.9167\n",
       "2      30.0000\n",
       "3...\n",
       "1  2  232    28.0\n",
       "233    30.0\n",
       "234    25.0\n",
       "235    34....\n",
       "2  3  426    42.0\n",
       "427    20.0\n",
       "428    18.0\n",
       "429    30...."
      ]
     },
     "execution_count": 937,
     "metadata": {},
     "output_type": "execute_result"
    }
   ],
   "source": [
    "pd.DataFrame(age_group)"
   ]
  },
  {
   "cell_type": "code",
   "execution_count": 938,
   "metadata": {},
   "outputs": [
    {
     "name": "stdout",
     "output_type": "stream",
     "text": [
      "0\n"
     ]
    }
   ],
   "source": [
    "train.loc[train.age.isnull(),'age'] = train.groupby(\"pclass\").age.transform('median')\n",
    "test.loc[test.age.isnull(),'age'] = test.groupby(\"pclass\").age.transform('median')\n",
    "print(train['age'].isnull().sum())"
   ]
  },
  {
   "cell_type": "code",
   "execution_count": 939,
   "metadata": {},
   "outputs": [],
   "source": [
    "train[\"embarked\"] = train[\"embarked\"].fillna(mode(train[\"embarked\"]))\n",
    "test[\"embarked\"] = test[\"embarked\"].fillna(mode(test[\"embarked\"]))\n",
    "train[\"fare\"] = train[\"fare\"].fillna(mode(train[\"fare\"]))"
   ]
  },
  {
   "cell_type": "markdown",
   "metadata": {},
   "source": [
    "mode() 离散的或标称的数据的单模（最常见的值）。"
   ]
  },
  {
   "cell_type": "code",
   "execution_count": 940,
   "metadata": {},
   "outputs": [
    {
     "name": "stdout",
     "output_type": "stream",
     "text": [
      "ID          0\n",
      "pclass      0\n",
      "survived    0\n",
      "name        0\n",
      "sex         0\n",
      "age         0\n",
      "sibsp       0\n",
      "parch       0\n",
      "ticket      0\n",
      "fare        0\n",
      "cabin       0\n",
      "embarked    0\n",
      "dtype: int64\n",
      "\n",
      "ID          0\n",
      "pclass      0\n",
      "name        0\n",
      "sex         0\n",
      "age         0\n",
      "sibsp       0\n",
      "parch       0\n",
      "ticket      0\n",
      "fare        0\n",
      "cabin       0\n",
      "embarked    0\n",
      "dtype: int64\n"
     ]
    }
   ],
   "source": [
    "print(train.isnull().sum())\n",
    "print()\n",
    "print(test.isnull().sum())"
   ]
  },
  {
   "cell_type": "markdown",
   "metadata": {},
   "source": [
    "## 2.2 數值化"
   ]
  },
  {
   "cell_type": "markdown",
   "metadata": {},
   "source": [
    "### 2.2.1 船艙 "
   ]
  },
  {
   "cell_type": "code",
   "execution_count": 941,
   "metadata": {},
   "outputs": [
    {
     "name": "stdout",
     "output_type": "stream",
     "text": [
      "['B5', 'C22 C26', 'C101', 'C62 C64', 'B35', 'X', 'A23', 'D15', 'C6', 'D35', 'C148', 'B49', 'C99', 'C52', 'T', 'A31', 'C7', 'C103', 'E33', 'A21', 'B10', 'B4', 'E40', 'E24', 'B51 B53 B55', 'B96 B98', 'C46', 'E8', 'B61', 'B77', 'A9', 'C89', 'E58', 'E49', 'E52', 'E45', 'B22', 'B26', 'C85', 'B71', 'B20', 'A34', 'B58 B60', 'C86', 'A20', 'C54', 'C45', 'D20', 'A29', 'C95', 'E25', 'C23 C25 C27', 'E36', 'D34', 'D40', 'B41', 'B102', 'C123', 'E63', 'C130', 'B86', 'C92', 'A5', 'C51', 'B42', 'C91', 'C125', 'B82 B84', 'E50', 'D33', 'C83', 'B94', 'D49', 'D45', 'B69', 'B11', 'E46', 'C39', 'B18', 'D11', 'C93', 'B28', 'C49', 'B52 B54 B56', 'C132', 'B37', 'D21', 'D19', 'D17', 'B101', 'D28', 'D6', 'D9', 'B79', 'C47', 'D30', 'C90', 'E38', 'C78', 'C118', 'D36', 'D48', 'C105', 'B36', 'B30', 'C124', 'C2', 'C65', 'C104', 'C110', 'B3', 'A24', 'A32', 'A11', 'B57 B59 B63 B66', 'C28', 'E44', 'A26', 'A6', 'A7', 'C31', 'B45', 'E34', 'B78', 'B50', 'C116', 'C55 C57', 'D50', 'E67', 'C126', 'C68', 'C70', 'C53', 'B19', 'D46', 'D26', 'C80', 'C82', 'E39 E41', 'C32', 'F4', 'D56', 'F33', 'D', 'E101', 'E77', 'F2', 'F', 'F G63', 'F E57', 'F E46', 'E121', 'G6', 'F38']\n",
      "\n",
      "['C22 C26', 'E12', 'D7', 'A36', 'X', 'C62 C64', 'B58 B60', 'D35', 'C97', 'D22', 'C101', 'B38', 'B51 B53 B55', 'B96 B98', 'E31', 'A14', 'B22', 'E17', 'B71', 'B20', 'A34', 'C86', 'A16', 'A18', 'C111', 'B39', 'D10 D12', 'D33', 'C54', 'E60', 'D21', 'C124', 'D28', 'B80', 'C106', 'D30', 'C78', 'C30', 'D47', 'D43', 'B24', 'B73', 'C50', 'A10', 'B57 B59 B63 B66', 'B35', 'E44', 'A19', 'B45', 'E34', 'C87', 'B28', 'E68', 'E67', 'C126', 'C68', 'D37', 'C32', 'C7', 'C128', 'D', 'F4', 'F33', 'F2', 'D38', 'F G63', 'F G73', 'F E69', 'E10', 'G6']\n"
     ]
    }
   ],
   "source": [
    "print(train['cabin'].unique().tolist())\n",
    "print()\n",
    "print(test['cabin'].unique().tolist())"
   ]
  },
  {
   "cell_type": "code",
   "execution_count": 942,
   "metadata": {},
   "outputs": [
    {
     "name": "stdout",
     "output_type": "stream",
     "text": [
      "train['cabin']: ['B', 'C', 'X', 'A', 'D', 'T', 'E', 'F', 'G']\n",
      "test['cabin']: ['C', 'E', 'D', 'A', 'X', 'B', 'F', 'G']\n"
     ]
    }
   ],
   "source": [
    "train['cabin'] = train['cabin'].map(lambda x: re.compile(\"([a-zA-Z]+)\").search(x).group())\n",
    "print(\"train['cabin']:\", train['cabin'].unique().tolist())\n",
    "\n",
    "test['cabin'] = test['cabin'].map(lambda x: re.compile(\"([a-zA-Z]+)\").search(x).group())\n",
    "print(\"test['cabin']:\", test['cabin'].unique().tolist())\n"
   ]
  },
  {
   "cell_type": "code",
   "execution_count": 943,
   "metadata": {},
   "outputs": [
    {
     "name": "stdout",
     "output_type": "stream",
     "text": [
      "train['cabin']: [2, 3, 11, 1, 4, 12, 5, 6, 7]\n",
      "test['cabin']: [3, 5, 4, 1, 11, 2, 6, 7]\n"
     ]
    }
   ],
   "source": [
    "category_1 = {'A':1, 'B':2, 'C':3, 'D':4, 'E':5, 'F':6, 'G':7, 'X':11, 'T':12}\n",
    "#category = {'A':0, 'B':0, 'C':0, 'D':0, 'E':0, 'F':0, 'G':0, 'X':0, 'T':0}\n",
    "\n",
    "train['cabin'] = train['cabin'].map(category_1)\n",
    "print(\"train['cabin']:\", train['cabin'].unique().tolist())\n",
    "\n",
    "test['cabin'] = test['cabin'].map(category_1)\n",
    "print(\"test['cabin']:\", test['cabin'].unique().tolist())"
   ]
  },
  {
   "cell_type": "markdown",
   "metadata": {},
   "source": [
    "### 2.2.2 性別、登船處 "
   ]
  },
  {
   "cell_type": "code",
   "execution_count": 944,
   "metadata": {},
   "outputs": [
    {
     "name": "stdout",
     "output_type": "stream",
     "text": [
      "[1, 0]\n",
      "[1, 0]\n",
      "[0, 1, 2]\n",
      "[0, 1, 2]\n"
     ]
    }
   ],
   "source": [
    "category_2 = {\"male\": 0, \"female\": 1}\n",
    "category_3 = {\"S\": 0, \"C\": 1, \"Q\": 2}\n",
    "\n",
    "train[\"sex\"] = train[\"sex\"].map(category_2)\n",
    "print(train['sex'].unique().tolist())\n",
    "\n",
    "test[\"sex\"] = test[\"sex\"].map(category_2)\n",
    "print(test['sex'].unique().tolist())\n",
    "\n",
    "train[\"embarked\"] = train[\"embarked\"].map(category_3)\n",
    "print(train[\"embarked\"].unique().tolist())\n",
    "\n",
    "test[\"embarked\"] = test[\"embarked\"].map(category_3)\n",
    "print(test[\"embarked\"].unique().tolist())"
   ]
  },
  {
   "cell_type": "markdown",
   "metadata": {},
   "source": [
    "### 2.2.3 家屬 "
   ]
  },
  {
   "cell_type": "code",
   "execution_count": 945,
   "metadata": {},
   "outputs": [],
   "source": [
    "train['fam'] = train['sibsp'] + train['parch']\n",
    "test['fam'] = test['sibsp'] + test['parch']"
   ]
  },
  {
   "cell_type": "markdown",
   "metadata": {},
   "source": [
    "### 2.2.4 年齡"
   ]
  },
  {
   "cell_type": "markdown",
   "metadata": {},
   "source": [
    "#### way_original"
   ]
  },
  {
   "cell_type": "code",
   "execution_count": 946,
   "metadata": {},
   "outputs": [],
   "source": [
    "#train['age'] = train['age'].astype(str)\n",
    "#test['age'] = test['age'].astype(str)"
   ]
  },
  {
   "cell_type": "code",
   "execution_count": 947,
   "metadata": {},
   "outputs": [],
   "source": [
    "#train['age'] = train['age'].map(lambda x: re.compile(\"[0-9]\").search(x).group())\n",
    "#train['age'].unique().tolist()\n",
    "\n",
    "#test['age'] = test['age'].map(lambda x: re.compile(\"[0-9]\").search(x).group())\n",
    "#test['age'].unique().tolist()"
   ]
  },
  {
   "cell_type": "markdown",
   "metadata": {},
   "source": [
    "#### way_demo_1"
   ]
  },
  {
   "cell_type": "code",
   "execution_count": 948,
   "metadata": {},
   "outputs": [],
   "source": [
    "train['age'] = (train['age']/5).astype(int)\n",
    "test['age'] = (test['age']/5).astype(int)"
   ]
  },
  {
   "cell_type": "code",
   "execution_count": 949,
   "metadata": {},
   "outputs": [
    {
     "data": {
      "text/plain": [
       "[1, 0, 2, 3]"
      ]
     },
     "execution_count": 949,
     "metadata": {},
     "output_type": "execute_result"
    }
   ],
   "source": [
    "(train['age']/5).astype(int).unique().tolist()"
   ]
  },
  {
   "cell_type": "markdown",
   "metadata": {},
   "source": [
    "### 2.2.5 頭銜"
   ]
  },
  {
   "cell_type": "code",
   "execution_count": 950,
   "metadata": {},
   "outputs": [
    {
     "name": "stdout",
     "output_type": "stream",
     "text": [
      "train['Title']: ['Miss.', 'Master.', 'Mr.', 'Mrs.', 'Col.', 'Mme.', 'Dr.', 'Sir.', 'Mlle.', 'Dona.', 'Major.', 'Countess.', 'Don.', 'Rev.', 'Ms.']\n",
      "\n",
      "test['Title']: ['Miss.', 'Mrs.', 'Mr.', 'Major.', 'Master.', 'Capt.', 'Lady.', 'Dr.', 'Jonkheer.', 'Mlle.', 'Col.', 'Rev.', 'Ms.']\n"
     ]
    }
   ],
   "source": [
    "train['Title'] = train['name'].map(lambda x: re.compile(\"([A-Za-z]+)\\.\").search(x).group())\n",
    "test['Title'] = test['name'].map(lambda x: re.compile(\"([A-Za-z]+)\\.\").search(x).group())\n",
    "print(\"train['Title']:\", train['Title'].unique().tolist())\n",
    "print()\n",
    "print(\"test['Title']:\", test['Title'].unique().tolist())"
   ]
  },
  {
   "cell_type": "code",
   "execution_count": 951,
   "metadata": {},
   "outputs": [
    {
     "data": {
      "text/html": [
       "<div>\n",
       "<style scoped>\n",
       "    .dataframe tbody tr th:only-of-type {\n",
       "        vertical-align: middle;\n",
       "    }\n",
       "\n",
       "    .dataframe tbody tr th {\n",
       "        vertical-align: top;\n",
       "    }\n",
       "\n",
       "    .dataframe thead th {\n",
       "        text-align: right;\n",
       "    }\n",
       "</style>\n",
       "<table border=\"1\" class=\"dataframe\">\n",
       "  <thead>\n",
       "    <tr style=\"text-align: right;\">\n",
       "      <th></th>\n",
       "      <th>Title</th>\n",
       "      <th>survived</th>\n",
       "    </tr>\n",
       "  </thead>\n",
       "  <tbody>\n",
       "    <tr>\n",
       "      <th>0</th>\n",
       "      <td>Master.</td>\n",
       "      <td>0.534884</td>\n",
       "    </tr>\n",
       "    <tr>\n",
       "      <th>1</th>\n",
       "      <td>Miss.</td>\n",
       "      <td>0.687179</td>\n",
       "    </tr>\n",
       "    <tr>\n",
       "      <th>2</th>\n",
       "      <td>Mr.</td>\n",
       "      <td>0.156934</td>\n",
       "    </tr>\n",
       "    <tr>\n",
       "      <th>3</th>\n",
       "      <td>Mrs.</td>\n",
       "      <td>0.781955</td>\n",
       "    </tr>\n",
       "    <tr>\n",
       "      <th>4</th>\n",
       "      <td>Ms.</td>\n",
       "      <td>0.000000</td>\n",
       "    </tr>\n",
       "    <tr>\n",
       "      <th>5</th>\n",
       "      <td>Rare.</td>\n",
       "      <td>0.600000</td>\n",
       "    </tr>\n",
       "    <tr>\n",
       "      <th>6</th>\n",
       "      <td>Rev.</td>\n",
       "      <td>0.000000</td>\n",
       "    </tr>\n",
       "    <tr>\n",
       "      <th>7</th>\n",
       "      <td>Royal.</td>\n",
       "      <td>1.000000</td>\n",
       "    </tr>\n",
       "  </tbody>\n",
       "</table>\n",
       "</div>"
      ],
      "text/plain": [
       "     Title  survived\n",
       "0  Master.  0.534884\n",
       "1    Miss.  0.687179\n",
       "2      Mr.  0.156934\n",
       "3     Mrs.  0.781955\n",
       "4      Ms.  0.000000\n",
       "5    Rare.  0.600000\n",
       "6     Rev.  0.000000\n",
       "7   Royal.  1.000000"
      ]
     },
     "execution_count": 951,
     "metadata": {},
     "output_type": "execute_result"
    }
   ],
   "source": [
    "train['Title'] = train['Title'].replace(\n",
    "    ['Col.', 'Dr.', 'Jonkheer.', 'Capt.'], 'Rare.')\n",
    "train['Title'] = train['Title'].replace(\n",
    "    ['Countess.', 'Lady.', 'Lady', 'Sir', 'Sir.', 'Major.','Mme.',\n",
    "    'Dona.', 'Mlle.', 'Jonkheer.'],\n",
    "    'Royal.')\n",
    "train['Title'] = train['Title'].replace(['Don.'], 'Mr.')\n",
    "\n",
    "train[['Title', 'survived']].groupby(['Title'], as_index=False).mean()"
   ]
  },
  {
   "cell_type": "code",
   "execution_count": 952,
   "metadata": {},
   "outputs": [],
   "source": [
    "test['Title'] = test['Title'].replace(\n",
    "    ['Col.', 'Dr.', 'Jonkheer.', 'Capt.'], 'Rare.')\n",
    "test['Title'] = test['Title'].replace(\n",
    "    ['Countess.', 'Lady.', 'Lady', 'Sir', 'Sir.', 'Major.','Mme.',\n",
    "    'Dona.', 'Mlle.', 'Jonkheer.'],\n",
    "    'Royal.')\n",
    "test['Title'] = test['Title'].replace(['Don.'], 'Mr.')"
   ]
  },
  {
   "cell_type": "code",
   "execution_count": 953,
   "metadata": {},
   "outputs": [
    {
     "name": "stdout",
     "output_type": "stream",
     "text": [
      "[2, 4, 1, 3, 6, 5, 8, 7]\n",
      "0\n"
     ]
    }
   ],
   "source": [
    "title_mapping = {\"Mr.\": 1 , \"Miss.\": 2 , \"Mrs.\": 3 , \"Master.\": 4 , \"Royal.\": 5 , \"Rare.\": 6 , \"Ms.\": 7 , \"Rev.\": 8 }\n",
    "train['Title'] = train['Title'].map(title_mapping)\n",
    "\n",
    "#train['Title'] = train['Title'].fillna(0)\n",
    "print(train['Title'].unique().tolist())\n",
    "print(train['Title'].isnull().sum())"
   ]
  },
  {
   "cell_type": "code",
   "execution_count": 954,
   "metadata": {},
   "outputs": [
    {
     "name": "stdout",
     "output_type": "stream",
     "text": [
      "[2, 3, 1, 5, 4, 6, 8, 7]\n",
      "0\n"
     ]
    }
   ],
   "source": [
    "test['Title'] = test['Title'].map(title_mapping)\n",
    "\n",
    "#test['Title'] = test['Title'].fillna(0)\n",
    "print(test['Title'].unique().tolist())\n",
    "print(train['Title'].isnull().sum())"
   ]
  },
  {
   "cell_type": "markdown",
   "metadata": {},
   "source": [
    "### 2.2.6 結果"
   ]
  },
  {
   "cell_type": "code",
   "execution_count": 955,
   "metadata": {},
   "outputs": [
    {
     "data": {
      "text/plain": [
       "<matplotlib.axes._subplots.AxesSubplot at 0x1dbfd2d37c8>"
      ]
     },
     "execution_count": 955,
     "metadata": {},
     "output_type": "execute_result"
    },
    {
     "data": {
      "image/png": "[encoded data removed]",
      "text/plain": [
       "<Figure size 432x288 with 2 Axes>"
      ]
     },
     "metadata": {
      "needs_background": "light"
     },
     "output_type": "display_data"
    }
   ],
   "source": [
    "sns.heatmap(train.corr(), annot = True)"
   ]
  },
  {
   "cell_type": "code",
   "execution_count": 956,
   "metadata": {},
   "outputs": [
    {
     "data": {
      "text/plain": [
       "<matplotlib.axes._subplots.AxesSubplot at 0x1dbfd5828c8>"
      ]
     },
     "execution_count": 956,
     "metadata": {},
     "output_type": "execute_result"
    },
    {
     "data": {
      "image/png": "[encoded data removed]",
      "text/plain": [
       "<Figure size 432x288 with 2 Axes>"
      ]
     },
     "metadata": {
      "needs_background": "light"
     },
     "output_type": "display_data"
    }
   ],
   "source": [
    "sns.heatmap(test.corr(), annot = True)"
   ]
  },
  {
   "cell_type": "markdown",
   "metadata": {},
   "source": [
    "### 2.2.7 結果去留"
   ]
  },
  {
   "cell_type": "code",
   "execution_count": 957,
   "metadata": {},
   "outputs": [],
   "source": [
    "test = test.drop(['ticket'], axis = 1)\n",
    "test = test.drop(['name'], axis = 1)\n",
    "test = test.drop(['parch'], axis = 1)\n",
    "test = test.drop(['sibsp'], axis = 1)\n",
    "\n",
    "#test = test.drop(['age'], axis = 1)\n",
    "test = test.drop(['fam'], axis = 1)\n",
    "#test = test.drop(['pclass'], axis = 1)\n",
    "#test = test.drop(['Title'], axis = 1)\n",
    "#test = test.drop(['sex'], axis = 1)\n",
    "#test = test.drop(['fare'], axis = 1)\n",
    "test = test.drop(['embarked'], axis = 1)\n",
    "\n",
    "train.drop(['name', 'ticket'], axis = 1, inplace = True)\n",
    "train = train.drop(['parch'], axis = 1)\n",
    "train = train.drop(['sibsp'], axis = 1)\n",
    "\n",
    "#train = train.drop(['age'], axis = 1)\n",
    "train = train.drop(['fam'], axis = 1)\n",
    "#train = train.drop(['pclass'], axis = 1)\n",
    "#train = train.drop(['Title'], axis = 1)\n",
    "#train = train.drop(['sex'], axis = 1)\n",
    "#train = train.drop(['fare'], axis = 1)\n",
    "train = train.drop(['embarked'], axis = 1)"
   ]
  },
  {
   "cell_type": "code",
   "execution_count": 958,
   "metadata": {},
   "outputs": [
    {
     "data": {
      "text/plain": [
       "<matplotlib.axes._subplots.AxesSubplot at 0x1dbfd74ce88>"
      ]
     },
     "execution_count": 958,
     "metadata": {},
     "output_type": "execute_result"
    },
    {
     "data": {
      "image/png": "[encoded data removed]",
      "text/plain": [
       "<Figure size 432x288 with 2 Axes>"
      ]
     },
     "metadata": {
      "needs_background": "light"
     },
     "output_type": "display_data"
    }
   ],
   "source": [
    "sns.heatmap(train.corr(), annot = True)"
   ]
  },
  {
   "cell_type": "code",
   "execution_count": 959,
   "metadata": {},
   "outputs": [
    {
     "data": {
      "text/plain": [
       "<matplotlib.axes._subplots.AxesSubplot at 0x1dbfd7bda08>"
      ]
     },
     "execution_count": 959,
     "metadata": {},
     "output_type": "execute_result"
    },
    {
     "data": {
      "image/png": "[encoded data removed]",
      "text/plain": [
       "<Figure size 432x288 with 2 Axes>"
      ]
     },
     "metadata": {
      "needs_background": "light"
     },
     "output_type": "display_data"
    }
   ],
   "source": [
    "sns.heatmap(test.corr(), annot = True)"
   ]
  },
  {
   "cell_type": "markdown",
   "metadata": {},
   "source": [
    "# Step 3.訓練模型"
   ]
  },
  {
   "cell_type": "markdown",
   "metadata": {},
   "source": [
    "## 3.1 通用模板_sklearn"
   ]
  },
  {
   "cell_type": "code",
   "execution_count": 1184,
   "metadata": {},
   "outputs": [],
   "source": [
    "X_train, X_test, y_train, y_test = train_test_split(\n",
    "    train.drop(['survived','ID'], axis=1), \n",
    "    train['survived'], \n",
    "    test_size = 0.4, \n",
    "    random_state = 0)"
   ]
  },
  {
   "cell_type": "markdown",
   "metadata": {},
   "source": [
    "## 3.2 LOGISTIC REGRESSION_sklearn"
   ]
  },
  {
   "cell_type": "code",
   "execution_count": 1111,
   "metadata": {},
   "outputs": [
    {
     "name": "stdout",
     "output_type": "stream",
     "text": [
      "0.8053097345132744\n",
      "78.31\n"
     ]
    }
   ],
   "source": [
    "from sklearn.linear_model import LogisticRegression\n",
    "log = LogisticRegression(\n",
    "    max_iter = 50000\n",
    ")\n",
    "log.fit(X_train, y_train)\n",
    "score_log = log.score(X_train, y_train)\n",
    "pred_log = log.predict(X_test)\n",
    "acc_log = round(accuracy_score(pred_log, y_test) * 100, 2)\n",
    "print(score_log)\n",
    "print(acc_log)"
   ]
  },
  {
   "cell_type": "code",
   "execution_count": 1114,
   "metadata": {},
   "outputs": [
    {
     "name": "stdout",
     "output_type": "stream",
     "text": [
      "[[190  35]\n",
      " [ 47 106]]\n"
     ]
    }
   ],
   "source": [
    "from sklearn.metrics import classification_report, confusion_matrix\n",
    "print(confusion_matrix(y_test, pred_log))\n",
    "tn, fp, fn, tp = confusion_matrix(y_test, pred_log).ravel()"
   ]
  },
  {
   "cell_type": "code",
   "execution_count": 1113,
   "metadata": {},
   "outputs": [
    {
     "name": "stdout",
     "output_type": "stream",
     "text": [
      "accuracy is:  79.0\n"
     ]
    }
   ],
   "source": [
    "accuracy=((tp+tn)/(tp+tn+fp+fn))\n",
    "print('accuracy is: ', (round(accuracy, 2)*100))"
   ]
  },
  {
   "cell_type": "markdown",
   "metadata": {},
   "source": [
    "## 3.3 RANDOM FOREST_sklearn"
   ]
  },
  {
   "cell_type": "code",
   "execution_count": 1206,
   "metadata": {},
   "outputs": [
    {
     "name": "stdout",
     "output_type": "stream",
     "text": [
      "0.9380530973451328\n",
      "78.57\n"
     ]
    }
   ],
   "source": [
    "from sklearn.ensemble import RandomForestClassifier\n",
    "\n",
    "# Define our optimal randomForest algo\n",
    "randomforest = RandomForestClassifier(\n",
    "    criterion = 'gini',\n",
    "    max_depth = 10,\n",
    "    max_features = 'auto',\n",
    "    n_estimators = 500)\n",
    "randomforest.fit(X_train, y_train)\n",
    "score_randomforest = randomforest.score(X_train, y_train)\n",
    "pred_randomforest = randomforest.predict(X_test)\n",
    "acc_randomforest = round(accuracy_score(pred_randomforest, y_test) * 100, 2)\n",
    "print(score_randomforest)\n",
    "print(acc_randomforest)\n"
   ]
  },
  {
   "cell_type": "markdown",
   "metadata": {},
   "source": [
    "## 3.4 GRADIENT BOOSTING_sklearn"
   ]
  },
  {
   "cell_type": "code",
   "execution_count": 1209,
   "metadata": {},
   "outputs": [
    {
     "name": "stdout",
     "output_type": "stream",
     "text": [
      "0.8725663716814159 80.95\n",
      "0.8761061946902655 80.95\n",
      "0.8778761061946903 80.95\n",
      "0.8778761061946903 80.16\n",
      "0.8707964601769912 80.95\n",
      "0.8690265486725663 80.42\n",
      "0.8690265486725663 80.95\n",
      "0.8725663716814159 80.69\n",
      "0.8654867256637168 81.22\n",
      "0.8654867256637168 81.48\n",
      "0.8690265486725663 80.95\n",
      "0.8654867256637168 80.42\n",
      "0.8778761061946903 81.48\n",
      "0.8725663716814159 80.95\n",
      "0.8690265486725663 80.95\n",
      "0.8707964601769912 80.69\n",
      "0.8654867256637168 80.95\n",
      "0.8743362831858407 81.48\n",
      "0.8707964601769912 82.01\n",
      "0.8707964601769912 80.69\n",
      "0.8814159292035398 81.22\n",
      "0.8725663716814159 81.22\n",
      "0.8654867256637168 80.69\n",
      "0.8672566371681416 80.16\n",
      "0.8743362831858407 81.75\n",
      "0.8761061946902655 80.95\n",
      "0.8725663716814159 80.95\n",
      "0.863716814159292 81.22\n",
      "0.8743362831858407 80.69\n",
      "0.8707964601769912 80.69\n",
      "0.8778761061946903 80.16\n",
      "0.8725663716814159 81.22\n",
      "0.8707964601769912 80.69\n",
      "0.8743362831858407 80.69\n",
      "0.8690265486725663 80.95\n",
      "0.8707964601769912 80.95\n",
      "0.8672566371681416 81.22\n",
      "0.8725663716814159 81.22\n",
      "0.8654867256637168 80.69\n",
      "0.8743362831858407 80.69\n",
      "0.8690265486725663 81.75\n",
      "0.8690265486725663 81.22\n",
      "0.8672566371681416 80.69\n",
      "0.8690265486725663 81.22\n",
      "0.8672566371681416 80.95\n",
      "0.8672566371681416 81.22\n",
      "0.8690265486725663 80.69\n",
      "0.8690265486725663 80.42\n",
      "0.8672566371681416 80.69\n",
      "0.8761061946902655 80.95\n",
      "0.8690265486725663 80.69\n",
      "0.8672566371681416 80.69\n",
      "0.8707964601769912 80.69\n",
      "0.8725663716814159 80.95\n",
      "0.8778761061946903 81.48\n",
      "0.8743362831858407 80.69\n",
      "0.8725663716814159 80.69\n",
      "0.8672566371681416 81.22\n",
      "0.8707964601769912 82.01\n",
      "0.8690265486725663 82.01\n",
      "0.8814159292035398 81.48\n",
      "0.8761061946902655 81.75\n",
      "0.863716814159292 81.48\n",
      "0.8743362831858407 80.95\n",
      "0.8778761061946903 80.16\n",
      "0.8690265486725663 81.22\n",
      "0.8654867256637168 80.95\n",
      "0.8814159292035398 81.48\n",
      "0.8690265486725663 80.42\n",
      "0.8690265486725663 80.95\n",
      "0.8672566371681416 80.42\n",
      "0.8672566371681416 80.42\n",
      "0.8690265486725663 80.95\n",
      "0.8672566371681416 80.95\n",
      "0.8743362831858407 80.42\n",
      "0.8814159292035398 80.42\n",
      "0.8672566371681416 80.42\n",
      "0.8778761061946903 80.69\n",
      "0.8707964601769912 80.95\n",
      "0.8654867256637168 80.16\n",
      "0.8672566371681416 81.22\n",
      "0.863716814159292 80.69\n",
      "0.8743362831858407 80.69\n",
      "0.8743362831858407 80.16\n",
      "0.8690265486725663 80.95\n",
      "0.8690265486725663 81.48\n",
      "0.8690265486725663 80.69\n",
      "0.863716814159292 80.16\n",
      "0.8672566371681416 80.95\n",
      "0.8743362831858407 81.22\n",
      "0.8690265486725663 80.95\n",
      "0.8690265486725663 80.95\n",
      "0.8761061946902655 81.22\n",
      "0.8707964601769912 80.95\n",
      "0.8672566371681416 81.22\n",
      "0.8725663716814159 81.75\n",
      "0.8690265486725663 81.22\n",
      "0.8725663716814159 81.48\n",
      "0.863716814159292 80.69\n",
      "0.8725663716814159 80.95\n"
     ]
    },
    {
     "data": {
      "text/plain": [
       "80.94"
      ]
     },
     "execution_count": 1209,
     "metadata": {},
     "output_type": "execute_result"
    }
   ],
   "source": [
    "from sklearn.ensemble import GradientBoostingClassifier\n",
    "\n",
    "acc_gbk = 0\n",
    "testacc = []\n",
    "\n",
    "async def gbk_model():\n",
    "    for i in range(100):\n",
    "        gbk = GradientBoostingClassifier(\n",
    "            learning_rate = 0.05,\n",
    "            n_estimators = 100,\n",
    "            subsample = 0.9\n",
    "        )\n",
    "        gbk.fit(X_train, y_train)\n",
    "        score_gbk = gbk.score(X_train, y_train)\n",
    "        pred_gbk = gbk.predict(X_test)\n",
    "        acc_gbk = round(accuracy_score(pred_gbk, y_test) * 100, 2)\n",
    "        print(score_gbk, acc_gbk)\n",
    "        testacc.append(acc_gbk)\n",
    "    \n",
    "    return pd.Series(testacc).mean()\n",
    "\n",
    "acc_gbk = round(await asyncio.create_task(gbk_model()), 2)\n",
    "acc_gbk"
   ]
  },
  {
   "cell_type": "markdown",
   "metadata": {},
   "source": [
    "## 3.6 DecisionTreeClassifier_sklearn"
   ]
  },
  {
   "cell_type": "code",
   "execution_count": 1208,
   "metadata": {},
   "outputs": [
    {
     "name": "stdout",
     "output_type": "stream",
     "text": [
      "0.9610619469026549\n",
      "73.28\n"
     ]
    }
   ],
   "source": [
    "from sklearn.tree import DecisionTreeClassifier\n",
    "\n",
    "dtc = DecisionTreeClassifier(\n",
    "    criterion = 'entropy'\n",
    ")\n",
    "dtc.fit(X_train, y_train)\n",
    "pred_dtc = dtc.predict(X_test)\n",
    "acc_dtc = round(accuracy_score(pred_dtc, y_test) * 100, 2)\n",
    "score_dtc = dtc.score(X_train, y_train)\n",
    "print(score_dtc)\n",
    "print(acc_dtc)"
   ]
  },
  {
   "cell_type": "markdown",
   "metadata": {},
   "source": [
    "## 3.7 Other_sklearn"
   ]
  },
  {
   "cell_type": "code",
   "execution_count": 1197,
   "metadata": {},
   "outputs": [],
   "source": [
    "#Using KNeighborsClassifier Method of neighbors class to use Nearest Neighbor algorithm\n",
    "from sklearn.neighbors import KNeighborsClassifier\n",
    "knn = KNeighborsClassifier(\n",
    "    n_neighbors = 5,\n",
    "    metric = 'minkowski',\n",
    "    p = 2\n",
    ")\n",
    "knn.fit(X_train, y_train)\n",
    "score_knn = knn.score(X_train, y_train)\n",
    "pred_knn = knn.predict(X_test)\n",
    "acc_knn = round(accuracy_score(pred_knn, y_test) * 100, 2)\n",
    "\n",
    "#Using SVC method of svm class to use Support Vector Machine Algorithm\n",
    "from sklearn.svm import SVC\n",
    "svc_lin = SVC(\n",
    "    kernel = 'linear',\n",
    "    random_state = 0\n",
    ")\n",
    "svc_lin.fit(X_train, y_train)\n",
    "score_svc_lin = svc_lin.score(X_train, y_train)\n",
    "pred_svc_lin = svc_lin.predict(X_test)\n",
    "acc_svc_lin = round(accuracy_score(pred_svc_lin, y_test) * 100, 2)\n",
    "\n",
    "#Using SVC method of svm class to use Kernel SVM Algorithm\n",
    "from sklearn.svm import SVC\n",
    "svc_rbf = SVC(\n",
    "    kernel = 'rbf',\n",
    "    random_state = 0\n",
    ")\n",
    "svc_rbf.fit(X_train, y_train)\n",
    "score_svc_rbf = svc_rbf.score(X_train, y_train)\n",
    "pred_svc_rbf = svc_rbf.predict(X_test)\n",
    "acc_svc_rbf = round(accuracy_score(pred_svc_rbf, y_test) * 100, 2)\n",
    "\n",
    "#Using GaussianNB method of naïve_bayes class to use Naïve Bayes Algorithm\n",
    "from sklearn.naive_bayes import GaussianNB\n",
    "gauss = GaussianNB(\n",
    ")\n",
    "gauss.fit(X_train, y_train)\n",
    "score_gauss = gauss.score(X_train,y_train)\n",
    "pred_gauss = gauss.predict(X_test)\n",
    "acc_gauss = round(accuracy_score(pred_gauss, y_test) * 100, 2)\n"
   ]
  },
  {
   "cell_type": "markdown",
   "metadata": {},
   "source": [
    "# Step 4.預測結果"
   ]
  },
  {
   "cell_type": "code",
   "execution_count": 1210,
   "metadata": {},
   "outputs": [
    {
     "data": {
      "text/html": [
       "<div>\n",
       "<style scoped>\n",
       "    .dataframe tbody tr th:only-of-type {\n",
       "        vertical-align: middle;\n",
       "    }\n",
       "\n",
       "    .dataframe tbody tr th {\n",
       "        vertical-align: top;\n",
       "    }\n",
       "\n",
       "    .dataframe thead th {\n",
       "        text-align: right;\n",
       "    }\n",
       "</style>\n",
       "<table border=\"1\" class=\"dataframe\">\n",
       "  <thead>\n",
       "    <tr style=\"text-align: right;\">\n",
       "      <th></th>\n",
       "      <th>TECHNIQUE</th>\n",
       "      <th>SCORE</th>\n",
       "      <th>ACCURACY</th>\n",
       "    </tr>\n",
       "  </thead>\n",
       "  <tbody>\n",
       "    <tr>\n",
       "      <th>0</th>\n",
       "      <td>RANDOM FOREST</td>\n",
       "      <td>93.805310</td>\n",
       "      <td>78.57</td>\n",
       "    </tr>\n",
       "    <tr>\n",
       "      <th>1</th>\n",
       "      <td>LOGISTIC REGRESSION</td>\n",
       "      <td>80.530973</td>\n",
       "      <td>78.60</td>\n",
       "    </tr>\n",
       "    <tr>\n",
       "      <th>2</th>\n",
       "      <td>GRADIENT BOOSTING</td>\n",
       "      <td>87.256637</td>\n",
       "      <td>80.94</td>\n",
       "    </tr>\n",
       "    <tr>\n",
       "      <th>3</th>\n",
       "      <td>DecisionTreeClassifier</td>\n",
       "      <td>96.106195</td>\n",
       "      <td>73.28</td>\n",
       "    </tr>\n",
       "    <tr>\n",
       "      <th>4</th>\n",
       "      <td>KNeighborsClassifier</td>\n",
       "      <td>79.823009</td>\n",
       "      <td>74.60</td>\n",
       "    </tr>\n",
       "    <tr>\n",
       "      <th>5</th>\n",
       "      <td>Support Vector Machine Algorithm</td>\n",
       "      <td>78.584071</td>\n",
       "      <td>77.25</td>\n",
       "    </tr>\n",
       "    <tr>\n",
       "      <th>6</th>\n",
       "      <td>Kernel SVM Algorithm</td>\n",
       "      <td>67.610619</td>\n",
       "      <td>67.46</td>\n",
       "    </tr>\n",
       "    <tr>\n",
       "      <th>7</th>\n",
       "      <td>Naïve Bayes Algorithm</td>\n",
       "      <td>74.690265</td>\n",
       "      <td>77.25</td>\n",
       "    </tr>\n",
       "  </tbody>\n",
       "</table>\n",
       "</div>"
      ],
      "text/plain": [
       "                          TECHNIQUE      SCORE  ACCURACY\n",
       "0                     RANDOM FOREST  93.805310     78.57\n",
       "1               LOGISTIC REGRESSION  80.530973     78.60\n",
       "2                 GRADIENT BOOSTING  87.256637     80.94\n",
       "3            DecisionTreeClassifier  96.106195     73.28\n",
       "4              KNeighborsClassifier  79.823009     74.60\n",
       "5  Support Vector Machine Algorithm  78.584071     77.25\n",
       "6              Kernel SVM Algorithm  67.610619     67.46\n",
       "7             Naïve Bayes Algorithm  74.690265     77.25"
      ]
     },
     "execution_count": 1210,
     "metadata": {},
     "output_type": "execute_result"
    }
   ],
   "source": [
    "see = {\n",
    "    'TECHNIQUE':[\n",
    "        'RANDOM FOREST',\n",
    "        'LOGISTIC REGRESSION',\n",
    "        'GRADIENT BOOSTING',\n",
    "        'DecisionTreeClassifier',\n",
    "        'KNeighborsClassifier',\n",
    "        'Support Vector Machine Algorithm',\n",
    "        'Kernel SVM Algorithm',\n",
    "        'Naïve Bayes Algorithm'\n",
    "        \n",
    "    ],\n",
    "    'SCORE':[\n",
    "        score_randomforest* 100,\n",
    "        score_log* 100,\n",
    "        score_gbk* 100,\n",
    "        score_dtc* 100,\n",
    "        score_knn* 100,\n",
    "        score_svc_lin* 100,\n",
    "        score_svc_rbf* 100,\n",
    "        score_gauss* 100\n",
    "    ],\n",
    "    'ACCURACY':[\n",
    "        acc_randomforest,\n",
    "        acc_LOG,\n",
    "        acc_gbk,\n",
    "        acc_dtc,\n",
    "        acc_knn,\n",
    "        acc_svc_lin,\n",
    "        acc_svc_rbf,\n",
    "        acc_gauss\n",
    "    ]}\n",
    "mod = pd.DataFrame(see)\n",
    "mod"
   ]
  },
  {
   "cell_type": "markdown",
   "metadata": {},
   "source": [
    "# Step 5.產生檔案"
   ]
  },
  {
   "cell_type": "code",
   "execution_count": null,
   "metadata": {},
   "outputs": [],
   "source": [
    "score = max(mod[\"ACCURACY\"])\n",
    "score"
   ]
  },
  {
   "cell_type": "code",
   "execution_count": null,
   "metadata": {},
   "outputs": [],
   "source": [
    "inf_score = 82.84"
   ]
  },
  {
   "cell_type": "code",
   "execution_count": null,
   "metadata": {},
   "outputs": [],
   "source": [
    "import time\n",
    "current = str(time.strftime(\"%Y%m%d_%H%M%S\", time.localtime()))\n",
    "#D:\\Desktop\\soobi_practice\n",
    "#C:/Users/huai/.homejupyter\n",
    "name_for_csv = (\n",
    "    'D:\\Desktop\\soobi_practice\\demo2_' + str(score)+ '_'+ current + '.csv')\n",
    "print(name_for_csv)\n",
    "\n",
    "\n",
    "ids = test['ID']\n",
    "predictions = gbk.predict(test.drop('ID', axis=1))\n",
    "\n",
    "\n",
    "output = pd.DataFrame({ 'ID' : ids, 'survived': predictions })\n",
    "if score > inf_score:\n",
    "    output.to_csv(name_for_csv, index=False)\n",
    "else:\n",
    "    print(\"under\", inf_score)"
   ]
  },
  {
   "cell_type": "code",
   "execution_count": null,
   "metadata": {},
   "outputs": [],
   "source": [
    "#output.to_csv(name_for_csv, index=False)"
   ]
  },
  {
   "cell_type": "code",
   "execution_count": null,
   "metadata": {},
   "outputs": [],
   "source": []
  }
 ],
 "metadata": {
  "kernelspec": {
   "display_name": "Python 3",
   "language": "python",
   "name": "python3"
  },
  "language_info": {
   "codemirror_mode": {
    "name": "ipython",
    "version": 3
   },
   "file_extension": ".py",
   "mimetype": "text/x-python",
   "name": "python",
   "nbconvert_exporter": "python",
   "pygments_lexer": "ipython3",
   "version": "3.7.6"
  }
 },
 "nbformat": 4,
 "nbformat_minor": 2
}
